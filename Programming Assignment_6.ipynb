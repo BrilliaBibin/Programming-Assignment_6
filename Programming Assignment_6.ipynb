{
 "cells": [
  {
   "cell_type": "raw",
   "id": "cc2ba115-5457-4bd6-a7fb-3c7445d62f1a",
   "metadata": {},
   "source": [
    "1. Write a Python Program to Display Fibonacci Sequence Using Recursion?"
   ]
  },
  {
   "cell_type": "code",
   "execution_count": 2,
   "id": "0ff7a433-0550-47f4-af4e-2792e9b4ae20",
   "metadata": {},
   "outputs": [
    {
     "name": "stdin",
     "output_type": "stream",
     "text": [
      "Enter number of terms: 9\n"
     ]
    },
    {
     "name": "stdout",
     "output_type": "stream",
     "text": [
      "Fibonacci sequence:\n",
      "0\n",
      "1\n",
      "1\n",
      "2\n",
      "3\n",
      "5\n",
      "8\n",
      "13\n",
      "21\n"
     ]
    }
   ],
   "source": [
    "def fibonacci(n):\n",
    "    if(n <= 1):\n",
    "        return n\n",
    "    else:\n",
    "        return(fibonacci(n-1) + fibonacci(n-2))\n",
    "n = int(input(\"Enter number of terms:\"))\n",
    "print(\"Fibonacci sequence:\")\n",
    "for i in range(n):\n",
    "    print(fibonacci(i))"
   ]
  },
  {
   "cell_type": "raw",
   "id": "dd071579-48e2-4b77-b30d-861d1ad8d685",
   "metadata": {},
   "source": [
    "2. Write a Python Program to Find Factorial of Number Using Recursion?"
   ]
  },
  {
   "cell_type": "code",
   "execution_count": 3,
   "id": "91939d79-92bc-4ba5-a33d-97f261ee04b2",
   "metadata": {},
   "outputs": [
    {
     "name": "stdout",
     "output_type": "stream",
     "text": [
      "number :  5\n",
      "Factorial :  120\n"
     ]
    }
   ],
   "source": [
    "def factorial(n):\n",
    "\t\n",
    "\tif (n==1 or n==0):\n",
    "\t\t\n",
    "\t\treturn 1\n",
    "\t\n",
    "\telse:\n",
    "\t\t\n",
    "\t\treturn (n * factorial(n - 1))\n",
    "\n",
    "num = 5;\n",
    "print(\"number : \",num)\n",
    "print(\"Factorial : \",factorial(num))\n"
   ]
  },
  {
   "cell_type": "raw",
   "id": "5dd86c64-f9b5-4967-94fd-b344c35fc3dc",
   "metadata": {},
   "source": [
    "3. Write a Python Program to calculate your Body Mass Index?"
   ]
  },
  {
   "cell_type": "code",
   "execution_count": 8,
   "id": "91c4aabc-a6cd-484f-bddd-87fa27c534b9",
   "metadata": {},
   "outputs": [
    {
     "name": "stdin",
     "output_type": "stream",
     "text": [
      "Enter the height in cm:  162\n",
      "Enter the weight in Kg:  62\n"
     ]
    },
    {
     "name": "stdout",
     "output_type": "stream",
     "text": [
      "The BMI is 0.002362444749276025 so underweight\n"
     ]
    }
   ],
   "source": [
    "def BMI(height, weight):\n",
    "\tbmi = weight/(height**2)\n",
    "\treturn bmi\n",
    "\n",
    "height = float(input(\"Enter the height in cm: \"))  \n",
    "weight = float(input(\"Enter the weight in Kg: \"))  \n",
    "\n",
    "bmi = BMI(height, weight)\n",
    "print(\"The BMI is\", format(bmi), \"so \", end='')\n",
    "\n",
    "if (bmi < 18.5):\n",
    "\tprint(\"underweight\")\n",
    "\n",
    "elif ( bmi >= 18.5 and bmi < 24.9):\n",
    "\tprint(\"Healthy\")\n",
    "\n",
    "elif ( bmi >= 24.9 and bmi < 30):\n",
    "\tprint(\"overweight\")\n",
    "\n",
    "elif ( bmi >=30):\n",
    "\tprint(\"Suffering from Obesity\")\n"
   ]
  },
  {
   "cell_type": "raw",
   "id": "2e4ac04f-907a-432c-bdac-288448505570",
   "metadata": {},
   "source": [
    "4. Write a Python Program to calculate the natural logarithm of any number?"
   ]
  },
  {
   "cell_type": "code",
   "execution_count": 9,
   "id": "15d69664-93a8-408f-a3ab-1d64ae93cbd9",
   "metadata": {},
   "outputs": [
    {
     "name": "stdin",
     "output_type": "stream",
     "text": [
      "Enter the number:  21\n"
     ]
    },
    {
     "name": "stdout",
     "output_type": "stream",
     "text": [
      "The value is: 3.044522437723423\n"
     ]
    }
   ],
   "source": [
    "import math\n",
    "\n",
    "number = int(input(\"Enter the number: \"))\n",
    "\n",
    "ans = math.log(number)\n",
    "\n",
    "print(\"The value is:\",ans)"
   ]
  },
  {
   "cell_type": "raw",
   "id": "56567551-662c-4ad3-86dc-39f3d311ebd3",
   "metadata": {},
   "source": [
    "5. Write a Python Program for cube sum of first n natural numbers?"
   ]
  },
  {
   "cell_type": "code",
   "execution_count": 10,
   "id": "c295467e-9c3d-4adf-a2ed-15a7a15983ba",
   "metadata": {},
   "outputs": [
    {
     "name": "stdin",
     "output_type": "stream",
     "text": [
      "enter n:  5\n"
     ]
    },
    {
     "name": "stdout",
     "output_type": "stream",
     "text": [
      "sum of cubes of first 5 natural numbers:  225\n"
     ]
    }
   ],
   "source": [
    "def CubeSum(n):\n",
    "    s=0\n",
    "    for i in range(n+1):\n",
    "        s+=i**3\n",
    "    return s\n",
    "n=int(input(\"enter n: \"))\n",
    "print(\"sum of cubes of first {} natural numbers: \".format(n),CubeSum(n))"
   ]
  }
 ],
 "metadata": {
  "kernelspec": {
   "display_name": "Python 3 (ipykernel)",
   "language": "python",
   "name": "python3"
  },
  "language_info": {
   "codemirror_mode": {
    "name": "ipython",
    "version": 3
   },
   "file_extension": ".py",
   "mimetype": "text/x-python",
   "name": "python",
   "nbconvert_exporter": "python",
   "pygments_lexer": "ipython3",
   "version": "3.10.6"
  }
 },
 "nbformat": 4,
 "nbformat_minor": 5
}
